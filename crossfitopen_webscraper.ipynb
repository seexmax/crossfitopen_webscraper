{
 "cells": [
  {
   "cell_type": "code",
   "execution_count": 13,
   "id": "b881f196",
   "metadata": {},
   "outputs": [],
   "source": [
    "import time \n",
    "import pandas as pd \n",
    "\n",
    "from selenium import webdriver \n",
    "from selenium.webdriver import Chrome \n",
    "from selenium.webdriver.chrome.service import Service \n",
    "from selenium.webdriver.common.by import By \n",
    "from webdriver_manager.chrome import ChromeDriverManager\n",
    "from selenium.webdriver.support import expected_conditions as EC\n",
    "from selenium.webdriver.support.ui import WebDriverWait\n",
    "from tqdm import tqdm"
   ]
  },
  {
   "cell_type": "code",
   "execution_count": 14,
   "id": "d24803f1",
   "metadata": {
    "scrolled": false
   },
   "outputs": [
    {
     "name": "stderr",
     "output_type": "stream",
     "text": [
      "/var/folders/28/3jbrg3jj0n96cgrlgn5h96yw0000gp/T/ipykernel_1659/1037692766.py:3: DeprecationWarning: headless property is deprecated, instead use add_argument('--headless') or add_argument('--headless=new')\n",
      "  options.headless = True #\n"
     ]
    }
   ],
   "source": [
    "# Driver setup\n",
    "options = webdriver.ChromeOptions() \n",
    "options.headless = True #\n",
    "options.page_load_strategy = 'none' \n",
    "chrome_path = ChromeDriverManager().install() \n",
    "chrome_service = Service(chrome_path) \n",
    "driver = Chrome(options=options, service=chrome_service) \n",
    "driver.implicitly_wait(5)"
   ]
  },
  {
   "cell_type": "code",
   "execution_count": 11,
   "id": "29944c0b",
   "metadata": {},
   "outputs": [],
   "source": [
    "#Dynamic url based on page number from user input\n",
    "def get_url(num_page): \n",
    "    \n",
    "    return (\"https://games.crossfit.com/leaderboard/open/2023?view=0&division=2&region=0&scaled=1&sort=0\"+\n",
    "            f\"&page={num_page}\")\n",
    "\n",
    "#Get the source code of the page\n",
    "def get_content(engine_driver,url): \n",
    "    \n",
    "    engine_driver.get(url)\n",
    "    time.sleep(2) #Play with this int upon your internet connection \n",
    "    \n",
    "    return WebDriverWait(engine_driver, 10).until(\n",
    "        EC.presence_of_element_located((By.XPATH,\"//*[@id='leaderboardSponsorVisible']/div/div[2]\")))\n",
    "\n",
    "#Add every athlete country on the page in a list\n",
    "def get_country_list(source):  \n",
    "    \n",
    "    list1=[]\n",
    "    \n",
    "    country_flag = source.find_elements(By.TAG_NAME, \"img\")\n",
    "    \n",
    "    for country in range(0,len(country_flag)):\n",
    "        list1.append(country_flag[country].get_property('attributes')[1]['textContent'])\n",
    "    return list1\n",
    "\n",
    "#Add every athlete name on the page in a list        \n",
    "def get_full_name(source): \n",
    "    \n",
    "    list2=[]\n",
    "    \n",
    "    athlete_name = source.find_elements(By.CLASS_NAME, \"full-name\")\n",
    "    \n",
    "    for name in range(0,len(athlete_name),2):\n",
    "        list2.append(athlete_name[name].text)\n",
    "    return list2\n",
    "\n",
    "#Loop through page, collect list on every page, create a dict out of it and export as .csv\n",
    "def get_data_as_csv(engine_driver,total_page: int,output_file_name: str): \n",
    "    list_test1=[]\n",
    "    list_test2=[]\n",
    "    try:\n",
    "        for page in tqdm(range(total_page+1),total=total_page,desc =\"Data is being collected\"):\n",
    "            content = get_content(engine_driver,get_url(page))\n",
    "            list_test1.extend(get_full_name(content))\n",
    "            list_test2.extend(get_country_list(content))\n",
    "            \n",
    "    except:\n",
    "        print('an error has been detected')\n",
    "        if not list_test1:\n",
    "            print('no data available for backup')\n",
    "        else:\n",
    "            df = pd.DataFrame({'name':list_test1,'country':list_test2})\n",
    "            df.to_csv(\"Backup.csv\", index=False) #if an error occurs, there is a back-up output\n",
    "            \n",
    "    else:    \n",
    "        df = pd.DataFrame({'name':list_test1,'country':list_test2})\n",
    "        df.to_csv(f\"{output_file_name}.csv\", index=False)"
   ]
  },
  {
   "cell_type": "code",
   "execution_count": 15,
   "id": "7dca06a8",
   "metadata": {},
   "outputs": [],
   "source": [
    "#get_data_as_csv(driver,1,'women-rx')"
   ]
  }
 ],
 "metadata": {
  "kernelspec": {
   "display_name": "Python 3 (ipykernel)",
   "language": "python",
   "name": "python3"
  },
  "language_info": {
   "codemirror_mode": {
    "name": "ipython",
    "version": 3
   },
   "file_extension": ".py",
   "mimetype": "text/x-python",
   "name": "python",
   "nbconvert_exporter": "python",
   "pygments_lexer": "ipython3",
   "version": "3.9.12"
  }
 },
 "nbformat": 4,
 "nbformat_minor": 5
}
